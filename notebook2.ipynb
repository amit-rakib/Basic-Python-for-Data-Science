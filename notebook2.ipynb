{
 "cells": [
  {
   "cell_type": "markdown",
   "id": "6767950f",
   "metadata": {},
   "source": [
    "Python Data Structures (Containers)\n",
    "\n",
    "Lists, Dictionaries, Sets, Tuples"
   ]
  },
  {
   "cell_type": "markdown",
   "id": "03858767",
   "metadata": {},
   "source": [
    "List"
   ]
  },
  {
   "cell_type": "code",
   "execution_count": 1,
   "id": "ee07afe0",
   "metadata": {},
   "outputs": [
    {
     "data": {
      "text/plain": [
       "['Ai', 1, 'is', 2, 'the', 2.4, 'new', True, 'python']"
      ]
     },
     "execution_count": 1,
     "metadata": {},
     "output_type": "execute_result"
    }
   ],
   "source": [
    "x = ['Ai', 1, 'is', 2, 'the', 2.4, 'new', True, 'python']\n",
    "x"
   ]
  },
  {
   "cell_type": "code",
   "execution_count": 2,
   "id": "14fba7b4",
   "metadata": {},
   "outputs": [
    {
     "data": {
      "text/plain": [
       "'Ai'"
      ]
     },
     "execution_count": 2,
     "metadata": {},
     "output_type": "execute_result"
    }
   ],
   "source": [
    "x[0]"
   ]
  },
  {
   "cell_type": "code",
   "execution_count": 3,
   "id": "0532a52e",
   "metadata": {},
   "outputs": [
    {
     "data": {
      "text/plain": [
       "2"
      ]
     },
     "execution_count": 3,
     "metadata": {},
     "output_type": "execute_result"
    }
   ],
   "source": [
    "x[3]"
   ]
  },
  {
   "cell_type": "code",
   "execution_count": 4,
   "id": "302dc02e",
   "metadata": {},
   "outputs": [
    {
     "data": {
      "text/plain": [
       "'python'"
      ]
     },
     "execution_count": 4,
     "metadata": {},
     "output_type": "execute_result"
    }
   ],
   "source": [
    "x[-1]"
   ]
  },
  {
   "cell_type": "code",
   "execution_count": 6,
   "id": "fa708383",
   "metadata": {},
   "outputs": [
    {
     "data": {
      "text/plain": [
       "['Ai', 1, 'is', 2, 'the', 2.4, 'new', True, 'Anaconda']"
      ]
     },
     "execution_count": 6,
     "metadata": {},
     "output_type": "execute_result"
    }
   ],
   "source": [
    "x[-1] = 'Anaconda'\n",
    "x"
   ]
  },
  {
   "cell_type": "code",
   "execution_count": 8,
   "id": "d7df15e3",
   "metadata": {},
   "outputs": [
    {
     "data": {
      "text/plain": [
       "['Ai', 1, 'is', 2, 'the', 2.4, 'new', True, 'Anaconda', 'python', 'python']"
      ]
     },
     "execution_count": 8,
     "metadata": {},
     "output_type": "execute_result"
    }
   ],
   "source": [
    "x.append('python') # Adding a new element to the end of the list\n",
    "x"
   ]
  },
  {
   "cell_type": "code",
   "execution_count": 10,
   "id": "567c840e",
   "metadata": {},
   "outputs": [
    {
     "data": {
      "text/plain": [
       "['Ai',\n",
       " 1,\n",
       " 'is',\n",
       " 2,\n",
       " 'the',\n",
       " 2.4,\n",
       " 'new',\n",
       " True,\n",
       " 'Anaconda',\n",
       " 'python',\n",
       " 'python',\n",
       " 'is',\n",
       " 'the',\n",
       " 'best',\n",
       " 'is',\n",
       " 'the',\n",
       " 'best']"
      ]
     },
     "execution_count": 10,
     "metadata": {},
     "output_type": "execute_result"
    }
   ],
   "source": [
    "x.extend(['is', 'the', 'best']) # Adding multiple elements to the end of the list\n",
    "x"
   ]
  },
  {
   "cell_type": "code",
   "execution_count": 12,
   "id": "8c251e79",
   "metadata": {},
   "outputs": [
    {
     "data": {
      "text/plain": [
       "['Ai',\n",
       " 1,\n",
       " 'is',\n",
       " 2,\n",
       " 'the',\n",
       " 2.4,\n",
       " 'new',\n",
       " True,\n",
       " 'Anaconda',\n",
       " 'python',\n",
       " 'python',\n",
       " 'is',\n",
       " 'the',\n",
       " 'best',\n",
       " 'is',\n",
       " 'the',\n",
       " 'best',\n",
       " ['hello', 'world']]"
      ]
     },
     "execution_count": 12,
     "metadata": {},
     "output_type": "execute_result"
    }
   ],
   "source": [
    "x.append(['hello', 'world']) # Adding a list as a single element\n",
    "x"
   ]
  },
  {
   "cell_type": "code",
   "execution_count": 13,
   "id": "a9151f70",
   "metadata": {},
   "outputs": [
    {
     "data": {
      "text/plain": [
       "'hello'"
      ]
     },
     "execution_count": 13,
     "metadata": {},
     "output_type": "execute_result"
    }
   ],
   "source": [
    "x[-1][0]"
   ]
  },
  {
   "cell_type": "code",
   "execution_count": 14,
   "id": "58fc3cb8",
   "metadata": {},
   "outputs": [
    {
     "data": {
      "text/plain": [
       "'world'"
      ]
     },
     "execution_count": 14,
     "metadata": {},
     "output_type": "execute_result"
    }
   ],
   "source": [
    "x[-1][-1]"
   ]
  },
  {
   "cell_type": "code",
   "execution_count": 17,
   "id": "ac11d92f",
   "metadata": {},
   "outputs": [
    {
     "data": {
      "text/plain": [
       "'the'"
      ]
     },
     "execution_count": 17,
     "metadata": {},
     "output_type": "execute_result"
    }
   ],
   "source": [
    "r = x.pop() # Removing the last element and returning it\n",
    "r"
   ]
  },
  {
   "cell_type": "code",
   "execution_count": 18,
   "id": "a1b014ec",
   "metadata": {},
   "outputs": [
    {
     "data": {
      "text/plain": [
       "[1,\n",
       " 'is',\n",
       " 2,\n",
       " 'the',\n",
       " 2.4,\n",
       " 'new',\n",
       " True,\n",
       " 'Anaconda',\n",
       " 'python',\n",
       " 'python',\n",
       " 'is',\n",
       " 'the',\n",
       " 'best',\n",
       " 'is']"
      ]
     },
     "execution_count": 18,
     "metadata": {},
     "output_type": "execute_result"
    }
   ],
   "source": [
    "x.remove('Ai') # Removing the first occurrence of 'Ai'\n",
    "x"
   ]
  },
  {
   "cell_type": "code",
   "execution_count": 19,
   "id": "84e68fe1",
   "metadata": {},
   "outputs": [
    {
     "name": "stdout",
     "output_type": "stream",
     "text": [
      "1\n",
      "is\n",
      "2\n",
      "the\n",
      "2.4\n",
      "new\n",
      "True\n",
      "Anaconda\n",
      "python\n",
      "python\n",
      "is\n",
      "the\n",
      "best\n",
      "is\n"
     ]
    }
   ],
   "source": [
    "for i in x:\n",
    "    print(i)"
   ]
  },
  {
   "cell_type": "code",
   "execution_count": 20,
   "id": "15df777a",
   "metadata": {},
   "outputs": [
    {
     "data": {
      "text/plain": [
       "[(0, 1),\n",
       " (1, 'is'),\n",
       " (2, 2),\n",
       " (3, 'the'),\n",
       " (4, 2.4),\n",
       " (5, 'new'),\n",
       " (6, True),\n",
       " (7, 'Anaconda'),\n",
       " (8, 'python'),\n",
       " (9, 'python'),\n",
       " (10, 'is'),\n",
       " (11, 'the'),\n",
       " (12, 'best'),\n",
       " (13, 'is')]"
      ]
     },
     "execution_count": 20,
     "metadata": {},
     "output_type": "execute_result"
    }
   ],
   "source": [
    "list(enumerate(x))"
   ]
  },
  {
   "cell_type": "code",
   "execution_count": 21,
   "id": "46d551e1",
   "metadata": {},
   "outputs": [
    {
     "name": "stdout",
     "output_type": "stream",
     "text": [
      "0 1\n",
      "1 is\n",
      "2 2\n",
      "3 the\n",
      "4 2.4\n",
      "5 new\n",
      "6 True\n",
      "7 Anaconda\n",
      "8 python\n",
      "9 python\n",
      "10 is\n",
      "11 the\n",
      "12 best\n",
      "13 is\n"
     ]
    }
   ],
   "source": [
    "for i,j in enumerate(x):\n",
    "    print(\"%d %s\" %(i,j))"
   ]
  },
  {
   "cell_type": "code",
   "execution_count": 22,
   "id": "ef0efb01",
   "metadata": {},
   "outputs": [
    {
     "data": {
      "text/plain": [
       "['Hello', 'world', 'war', '3']"
      ]
     },
     "execution_count": 22,
     "metadata": {},
     "output_type": "execute_result"
    }
   ],
   "source": [
    "str = \" Hello world war 3\"\n",
    "y = str.split() # Splitting the string into a list of words\n",
    "y"
   ]
  },
  {
   "cell_type": "code",
   "execution_count": 23,
   "id": "d422c7b8",
   "metadata": {},
   "outputs": [
    {
     "name": "stdout",
     "output_type": "stream",
     "text": [
      "1 Hello\n",
      "is world\n",
      "2 war\n",
      "the 3\n"
     ]
    }
   ],
   "source": [
    "for i, j in zip(x, y):\n",
    "    print(i,j)"
   ]
  },
  {
   "cell_type": "code",
   "execution_count": 31,
   "id": "943f257f",
   "metadata": {},
   "outputs": [
    {
     "name": "stderr",
     "output_type": "stream",
     "text": [
      "100%|██████████| 14/14 [00:28<00:00,  2.01s/it]\n"
     ]
    }
   ],
   "source": [
    "from tqdm import tqdm\n",
    "import time\n",
    "\n",
    "concat = \"\"\n",
    "\n",
    "for i in tqdm(x):\n",
    "    concat = concat + str(i)\n",
    "    time.sleep(2)"
   ]
  },
  {
   "cell_type": "markdown",
   "id": "4dc13883",
   "metadata": {},
   "source": [
    "List Comprehensions ( Important )"
   ]
  },
  {
   "cell_type": "code",
   "execution_count": 32,
   "id": "ca7cb3d8",
   "metadata": {},
   "outputs": [
    {
     "name": "stdout",
     "output_type": "stream",
     "text": [
      "Time taken to execute the loop:  0.00012302398681640625\n"
     ]
    }
   ],
   "source": [
    "import time \n",
    "\n",
    "start = time.time()\n",
    "\n",
    "nums = list(range(0,5))\n",
    "Squares = []\n",
    "\n",
    "for i in nums:\n",
    "    Squares.append(i**2)\n",
    "\n",
    "end = time.time()\n",
    "\n",
    "print(\"Time taken to execute the loop: \", end - start)"
   ]
  },
  {
   "cell_type": "markdown",
   "id": "de7a060b",
   "metadata": {},
   "source": [
    "Dictionaries - Key, Value Pair"
   ]
  },
  {
   "cell_type": "code",
   "execution_count": 33,
   "id": "23f91a64",
   "metadata": {},
   "outputs": [
    {
     "name": "stdout",
     "output_type": "stream",
     "text": [
      "meow\n"
     ]
    }
   ],
   "source": [
    "d = {'cat' :  'meow', 'dog' : 'bark', 'cow' : 'moo'}\n",
    "print(d['cat'])"
   ]
  },
  {
   "cell_type": "code",
   "execution_count": 34,
   "id": "0aa556d9",
   "metadata": {},
   "outputs": [
    {
     "name": "stdout",
     "output_type": "stream",
     "text": [
      "True\n"
     ]
    }
   ],
   "source": [
    "print('cat' in d)"
   ]
  },
  {
   "cell_type": "code",
   "execution_count": 40,
   "id": "108aaa0e",
   "metadata": {},
   "outputs": [
    {
     "data": {
      "text/plain": [
       "(dict_keys(['cat', 'dog', 'cow']),\n",
       " dict_values(['meow', 'bark', 'moo']),\n",
       " dict_items([('cat', 'meow'), ('dog', 'bark'), ('cow', 'moo')]))"
      ]
     },
     "execution_count": 40,
     "metadata": {},
     "output_type": "execute_result"
    }
   ],
   "source": [
    "d.keys(), d.values(), d.items()"
   ]
  },
  {
   "cell_type": "code",
   "execution_count": 41,
   "id": "8152004c",
   "metadata": {},
   "outputs": [
    {
     "name": "stdout",
     "output_type": "stream",
     "text": [
      "{'cat': 'purr', 'dog': 'bark', 'cow': 'moo'}\n"
     ]
    }
   ],
   "source": [
    "d['cat'] = 'purr'  # Updating the value for the key 'cat'\n",
    "print(d)"
   ]
  },
  {
   "cell_type": "code",
   "execution_count": 42,
   "id": "1d8749a6",
   "metadata": {},
   "outputs": [
    {
     "name": "stdout",
     "output_type": "stream",
     "text": [
      "{'cat': 'purr', 'dog': 'bark', 'cow': 'moo', 'coco': 'cucu', 'frog': 'crew', 'crow': 'crew'}\n"
     ]
    }
   ],
   "source": [
    "d.update({'coco': 'cucu', 'frog': 'crew', 'crow': 'crew'})  # Updating multiple keys\n",
    "print(d)"
   ]
  },
  {
   "cell_type": "code",
   "execution_count": 43,
   "id": "e7831a6d",
   "metadata": {},
   "outputs": [
    {
     "name": "stdout",
     "output_type": "stream",
     "text": [
      "purr\n",
      "not found\n"
     ]
    }
   ],
   "source": [
    "print(d.get('cat'))  # Using get to retrieve a value, returns None if key doesn't exist\n",
    "print(d.get('lion', 'not found'))  # Using get with a default value if key doesn't exist"
   ]
  },
  {
   "cell_type": "code",
   "execution_count": 44,
   "id": "e35ed38e",
   "metadata": {},
   "outputs": [
    {
     "name": "stdout",
     "output_type": "stream",
     "text": [
      "A cat goes purr\n",
      "A dog goes bark\n",
      "A cow goes moo\n",
      "A coco goes cucu\n",
      "A frog goes crew\n",
      "A crow goes crew\n"
     ]
    }
   ],
   "source": [
    "for animal, value in d.items():\n",
    "    print(f\"A {animal} goes {value}\")"
   ]
  },
  {
   "cell_type": "markdown",
   "id": "a3da3c49",
   "metadata": {},
   "source": [
    "Dictionary Comprehensions"
   ]
  },
  {
   "cell_type": "code",
   "execution_count": 45,
   "id": "ffc88c53",
   "metadata": {},
   "outputs": [
    {
     "name": "stdout",
     "output_type": "stream",
     "text": [
      "{0: 0, 2: 4, 4: 16, 6: 36, 8: 64, 10: 100, 12: 144, 14: 196, 16: 256, 18: 324}\n"
     ]
    }
   ],
   "source": [
    "nums = list(range(0,20))\n",
    "squares = {i: i**2 for i in nums if i % 2 == 0}  # Dictionary comprehension to create a dictionary of squares of even numbers\n",
    "print(squares)"
   ]
  },
  {
   "cell_type": "markdown",
   "id": "d7ab44d7",
   "metadata": {},
   "source": [
    "Sets - A set is an unordered collection of distinct elements."
   ]
  },
  {
   "cell_type": "code",
   "execution_count": 48,
   "id": "6faed61a",
   "metadata": {},
   "outputs": [
    {
     "name": "stdout",
     "output_type": "stream",
     "text": [
      "True\n"
     ]
    }
   ],
   "source": [
    "animals = {'cat', 'dog'}\n",
    "\n",
    "print('cat' in animals)  # Check if 'cat' is a key in the dictionary\n",
    "\n",
    "animals.add('lion')  # This will raise an AttributeError since dictionaries do not have an add method"
   ]
  },
  {
   "cell_type": "code",
   "execution_count": 49,
   "id": "bddf5edb",
   "metadata": {},
   "outputs": [
    {
     "data": {
      "text/plain": [
       "{'cat', 'dog', 'lion'}"
      ]
     },
     "execution_count": 49,
     "metadata": {},
     "output_type": "execute_result"
    }
   ],
   "source": [
    "animals"
   ]
  },
  {
   "cell_type": "code",
   "execution_count": 50,
   "id": "5b5736dc",
   "metadata": {},
   "outputs": [
    {
     "name": "stdout",
     "output_type": "stream",
     "text": [
      "3\n"
     ]
    }
   ],
   "source": [
    "print(len(animals)) # Get the number of unique elements in the set"
   ]
  },
  {
   "cell_type": "markdown",
   "id": "f63f5cfc",
   "metadata": {},
   "source": [
    "Tuples"
   ]
  },
  {
   "cell_type": "code",
   "execution_count": 51,
   "id": "f1cc30f7",
   "metadata": {},
   "outputs": [
    {
     "name": "stdout",
     "output_type": "stream",
     "text": [
      "{(0, 1): 0, (1, 2): 1, (2, 3): 2, (3, 4): 3, (4, 5): 4, (5, 6): 5, (6, 7): 6, (7, 8): 7, (8, 9): 8, (9, 10): 9}\n"
     ]
    }
   ],
   "source": [
    "d = {(x, x+1): x for x in range(10)} # Creating a dictionary with tuples as keys\n",
    "print(d)"
   ]
  },
  {
   "cell_type": "code",
   "execution_count": 52,
   "id": "f31f61c3",
   "metadata": {},
   "outputs": [
    {
     "name": "stdout",
     "output_type": "stream",
     "text": [
      "<class 'tuple'>\n"
     ]
    }
   ],
   "source": [
    "t = (5, 6)\n",
    "print(type(t))"
   ]
  },
  {
   "cell_type": "code",
   "execution_count": 53,
   "id": "be49bc34",
   "metadata": {},
   "outputs": [
    {
     "name": "stdout",
     "output_type": "stream",
     "text": [
      "5\n"
     ]
    }
   ],
   "source": [
    "print(d[t]) # Accessing the value associated with the tuple key in the dictionary"
   ]
  },
  {
   "cell_type": "code",
   "execution_count": null,
   "id": "a39c7b1d",
   "metadata": {},
   "outputs": [
    {
     "name": "stdout",
     "output_type": "stream",
     "text": [
      "1\n"
     ]
    }
   ],
   "source": [
    "print(d[(1,2)]) # Accessing the value associated with the tuple key (1, 2)"
   ]
  }
 ],
 "metadata": {
  "kernelspec": {
   "display_name": ".venv",
   "language": "python",
   "name": "python3"
  },
  "language_info": {
   "codemirror_mode": {
    "name": "ipython",
    "version": 3
   },
   "file_extension": ".py",
   "mimetype": "text/x-python",
   "name": "python",
   "nbconvert_exporter": "python",
   "pygments_lexer": "ipython3",
   "version": "3.13.2"
  }
 },
 "nbformat": 4,
 "nbformat_minor": 5
}
