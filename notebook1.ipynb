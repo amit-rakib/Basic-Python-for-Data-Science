{
 "cells": [
  {
   "cell_type": "code",
   "execution_count": 1,
   "id": "de4e7b35",
   "metadata": {},
   "outputs": [
    {
     "name": "stdout",
     "output_type": "stream",
     "text": [
      "hello\n"
     ]
    }
   ],
   "source": [
    "print(\"hello\")"
   ]
  },
  {
   "cell_type": "code",
   "execution_count": 4,
   "id": "54a48c2d",
   "metadata": {},
   "outputs": [],
   "source": [
    "a = 5\n",
    "b = 10\n"
   ]
  },
  {
   "cell_type": "markdown",
   "id": "010145ea",
   "metadata": {},
   "source": [
    "Arithmetic Operators"
   ]
  },
  {
   "cell_type": "code",
   "execution_count": 12,
   "id": "bcc5d819",
   "metadata": {},
   "outputs": [
    {
     "name": "stdout",
     "output_type": "stream",
     "text": [
      "Addition: 15\n",
      "Subtraction: 5\n",
      "Multiplication: 50\n",
      "Exponent, power: 9765625\n",
      "Division 0.5\n",
      "Floor division or Integer division: 0\n",
      "Reminder 5\n"
     ]
    }
   ],
   "source": [
    "print(\"Addition:\", a+b)\n",
    "print (\"Subtraction:\", b-a)\n",
    "print(\"Multiplication:\", a*b)\n",
    "print(\"Exponent, power:\", a**b)\n",
    "print(\"Division\", a/b)\n",
    "print(\"Floor division or Integer division:\", a//b)\n",
    "print(\"Reminder\", a%b)"
   ]
  },
  {
   "cell_type": "markdown",
   "id": "aeac7c9d",
   "metadata": {},
   "source": [
    "Comparison Operators"
   ]
  },
  {
   "cell_type": "code",
   "execution_count": 11,
   "id": "ebc41d13",
   "metadata": {},
   "outputs": [
    {
     "name": "stdout",
     "output_type": "stream",
     "text": [
      "Less than:  True\n",
      "Less than or equal to: True\n",
      "Greater than:  False\n",
      "Greater than or equal to:  False\n",
      "Equal to:  False\n",
      "Not equal to:  True\n"
     ]
    }
   ],
   "source": [
    "print(\"Less than: \", a < b)\n",
    "print(\"Less than or equal to:\", a <= b)\n",
    "print(\"Greater than: \", a > b)\n",
    "print(\"Greater than or equal to: \", a >= b)\n",
    "print(\"Equal to: \" , a == b)\n",
    "print(\"Not equal to: \", a != b)\n",
    "\n"
   ]
  },
  {
   "cell_type": "markdown",
   "id": "a6be9774",
   "metadata": {},
   "source": [
    "Logical Operators - and, or, not, xor"
   ]
  },
  {
   "cell_type": "code",
   "execution_count": 22,
   "id": "21ce8c38",
   "metadata": {},
   "outputs": [
    {
     "name": "stdout",
     "output_type": "stream",
     "text": [
      "False\n",
      "True\n",
      "False\n",
      "True\n",
      "True\n"
     ]
    }
   ],
   "source": [
    "t = True\n",
    "f = False\n",
    "\n",
    "print (t and f)\n",
    "print (t and t)\n",
    "print (f and f)\n",
    "\n",
    "print (t or f)\n",
    "print (not f)\n"
   ]
  },
  {
   "cell_type": "markdown",
   "id": "0989f6f1",
   "metadata": {},
   "source": [
    "Variables\n",
    "\n",
    "Naming Rules :\n",
    "s and S are not same, \n",
    "can not start with special char \"-\",\n",
    "can not start with number"
   ]
  },
  {
   "cell_type": "code",
   "execution_count": 2,
   "id": "6979863a",
   "metadata": {},
   "outputs": [
    {
     "name": "stdout",
     "output_type": "stream",
     "text": [
      "10 13\n"
     ]
    }
   ],
   "source": [
    "c = 10\n",
    "A = c+3\n",
    "print(c, A)"
   ]
  },
  {
   "cell_type": "markdown",
   "id": "53813058",
   "metadata": {},
   "source": [
    "Data Types:\n",
    "Integer, Boolean, Float, String"
   ]
  },
  {
   "cell_type": "code",
   "execution_count": 5,
   "id": "59a626c4",
   "metadata": {},
   "outputs": [
    {
     "data": {
      "text/plain": [
       "(int, bool, float, str)"
      ]
     },
     "execution_count": 5,
     "metadata": {},
     "output_type": "execute_result"
    }
   ],
   "source": [
    "a = 234\n",
    "b = True\n",
    "c = 34.4\n",
    "d = \"Hello\"\n",
    "\n",
    "type(a), type(b), type(c), type(d)\n",
    "\n"
   ]
  },
  {
   "cell_type": "markdown",
   "id": "1100f943",
   "metadata": {},
   "source": [
    "Strings"
   ]
  },
  {
   "cell_type": "code",
   "execution_count": null,
   "id": "28076b08",
   "metadata": {},
   "outputs": [
    {
     "name": "stdout",
     "output_type": "stream",
     "text": [
      "Hello world\n",
      "5 5\n",
      "Hello world\n",
      "Hello for world\n"
     ]
    }
   ],
   "source": [
    "a = \"Hello\"\n",
    "b = \"world\"\n",
    "\n",
    "print(a, b)\n",
    "print(len(a), len(b))\n",
    "\n",
    "c = a + \" \" + b\n",
    "print(c)\n",
    "\n",
    "d = f\"{a} for {b}\" # f-string formatting\n",
    "print(d)\n"
   ]
  },
  {
   "cell_type": "code",
   "execution_count": 19,
   "id": "18604858",
   "metadata": {},
   "outputs": [
    {
     "name": "stdout",
     "output_type": "stream",
     "text": [
      "<built-in method capitalize of str object at 0x1043a28e0>\n",
      "<built-in method upper of str object at 0x1043a28e0>\n",
      "world\n",
      "  Hello   \n",
      "Jello\n",
      "['Hello']\n",
      "HelloHelloHello\n"
     ]
    }
   ],
   "source": [
    "a = \"Hello\"\n",
    "print(a.capitalize)\n",
    "print(a.upper)\n",
    "print(\"world \".strip())\n",
    "print(a.center(10))\n",
    "print(a.replace(\"H\", \"J\"))\n",
    "print(a.split())\n",
    "print(a*3)"
   ]
  },
  {
   "cell_type": "markdown",
   "id": "d07dda45",
   "metadata": {},
   "source": [
    "If else statement"
   ]
  },
  {
   "cell_type": "code",
   "execution_count": 20,
   "id": "b9ba32ae",
   "metadata": {},
   "outputs": [
    {
     "name": "stdout",
     "output_type": "stream",
     "text": [
      "You are eligible to vote\n"
     ]
    }
   ],
   "source": [
    "age = 20\n",
    "\n",
    "if age >= 18: \n",
    "    print(\"You are eligible to vote\")\n",
    "elif age < 18 and age >= 0:\n",
    "    print(\"You are not eligible to vote\")\n",
    "else:\n",
    "    print(\"Invalid age\")"
   ]
  },
  {
   "cell_type": "markdown",
   "id": "f1a6ed69",
   "metadata": {},
   "source": [
    "Looping Constructs"
   ]
  },
  {
   "cell_type": "code",
   "execution_count": 21,
   "id": "622aa692",
   "metadata": {},
   "outputs": [
    {
     "name": "stdout",
     "output_type": "stream",
     "text": [
      "10\n",
      "11\n",
      "12\n",
      "13\n",
      "14\n",
      "15\n",
      "16\n",
      "17\n",
      "18\n",
      "19\n",
      "20\n"
     ]
    }
   ],
   "source": [
    "for i in range(10, 21):\n",
    "    print(i)"
   ]
  },
  {
   "cell_type": "code",
   "execution_count": 25,
   "id": "9c1e12a3",
   "metadata": {},
   "outputs": [
    {
     "name": "stdout",
     "output_type": "stream",
     "text": [
      "11\n",
      "13\n",
      "15\n",
      "17\n",
      "19\n"
     ]
    }
   ],
   "source": [
    "for i in range(11, 21, 2):\n",
    "    print(i)"
   ]
  },
  {
   "cell_type": "code",
   "execution_count": 26,
   "id": "6363fbac",
   "metadata": {},
   "outputs": [
    {
     "name": "stdout",
     "output_type": "stream",
     "text": [
      "20\n",
      "10\n"
     ]
    }
   ],
   "source": [
    "start = 20\n",
    "while start > 5:\n",
    "    print(start)\n",
    "    start = start // 2"
   ]
  },
  {
   "cell_type": "markdown",
   "id": "1d6b0783",
   "metadata": {},
   "source": [
    "Functions"
   ]
  },
  {
   "cell_type": "code",
   "execution_count": 28,
   "id": "b5551528",
   "metadata": {},
   "outputs": [],
   "source": [
    "def area_of_circle(radius):\n",
    "    return 3.14 * radius * radius"
   ]
  },
  {
   "cell_type": "code",
   "execution_count": 29,
   "id": "42e98f33",
   "metadata": {},
   "outputs": [
    {
     "name": "stdout",
     "output_type": "stream",
     "text": [
      "Area of circle with radius 4.5 is 63.585\n"
     ]
    }
   ],
   "source": [
    "x = 4.5\n",
    "print(\"Area of circle with radius\", x, \"is\", area_of_circle(x))"
   ]
  },
  {
   "cell_type": "code",
   "execution_count": 30,
   "id": "e82e3572",
   "metadata": {},
   "outputs": [
    {
     "name": "stdout",
     "output_type": "stream",
     "text": [
      "Hello alice!\n",
      "Hello BOB!\n"
     ]
    }
   ],
   "source": [
    "def hello(name, loud= False):\n",
    "    if loud:\n",
    "        print(f\"Hello {name.upper()}!\")\n",
    "    else: \n",
    "        print(f\"Hello {name.lower()}!\")\n",
    "\n",
    "hello(\"Alice\")\n",
    "hello(\"Bob\", loud=True)"
   ]
  },
  {
   "cell_type": "markdown",
   "id": "436e6e6b",
   "metadata": {},
   "source": [
    "Classes"
   ]
  },
  {
   "cell_type": "code",
   "execution_count": 31,
   "id": "ea277381",
   "metadata": {},
   "outputs": [
    {
     "name": "stdout",
     "output_type": "stream",
     "text": [
      "Hello charlie!\n",
      "HELLO CHARLIE!\n"
     ]
    }
   ],
   "source": [
    "class Greeter(object):\n",
    "    def __init__(self, name):\n",
    "        self.name = name\n",
    "\n",
    "    def greet(self, loud=False):\n",
    "        if loud:\n",
    "            print(f\"HELLO {self.name.upper()}!\")\n",
    "        else:\n",
    "            print(f\"Hello {self.name.lower()}!\")\n",
    "\n",
    "g = Greeter(\"Charlie\")\n",
    "g.greet()\n",
    "g.greet(loud=True)"
   ]
  }
 ],
 "metadata": {
  "kernelspec": {
   "display_name": ".venv",
   "language": "python",
   "name": "python3"
  },
  "language_info": {
   "codemirror_mode": {
    "name": "ipython",
    "version": 3
   },
   "file_extension": ".py",
   "mimetype": "text/x-python",
   "name": "python",
   "nbconvert_exporter": "python",
   "pygments_lexer": "ipython3",
   "version": "3.13.2"
  }
 },
 "nbformat": 4,
 "nbformat_minor": 5
}
