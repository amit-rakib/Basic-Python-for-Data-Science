{
 "cells": [
  {
   "cell_type": "code",
   "execution_count": 1,
   "id": "de4e7b35",
   "metadata": {},
   "outputs": [
    {
     "name": "stdout",
     "output_type": "stream",
     "text": [
      "hello\n"
     ]
    }
   ],
   "source": [
    "print(\"hello\")"
   ]
  },
  {
   "cell_type": "code",
   "execution_count": 4,
   "id": "54a48c2d",
   "metadata": {},
   "outputs": [],
   "source": [
    "a = 5\n",
    "b = 10\n"
   ]
  },
  {
   "cell_type": "markdown",
   "id": "010145ea",
   "metadata": {},
   "source": [
    "Arithmetic Operators"
   ]
  },
  {
   "cell_type": "code",
   "execution_count": 8,
   "id": "bcc5d819",
   "metadata": {},
   "outputs": [
    {
     "name": "stdout",
     "output_type": "stream",
     "text": [
      "Addition: 15\n",
      "Subtraction: 5\n",
      "Multiplication: 50\n",
      "Exponent, power: 9765625\n",
      "Division 0.5\n",
      "Floor division or Integer division: 0.5\n",
      "Reminder 5\n"
     ]
    }
   ],
   "source": [
    "print(\"Addition:\", a+b)\n",
    "print (\"Subtraction:\", b-a)\n",
    "print(\"Multiplication:\", a*b)\n",
    "print(\"Exponent, power:\", a**b)\n",
    "print(\"Division\", a/b)\n",
    "print(\"Floor division or Integer division:\", a/b)\n",
    "print(\"Reminder\", a%b)"
   ]
  },
  {
   "cell_type": "markdown",
   "id": "aeac7c9d",
   "metadata": {},
   "source": [
    "Comparison Operators"
   ]
  },
  {
   "cell_type": "code",
   "execution_count": 11,
   "id": "ebc41d13",
   "metadata": {},
   "outputs": [
    {
     "name": "stdout",
     "output_type": "stream",
     "text": [
      "Less than:  True\n",
      "Less than or equal to: True\n",
      "Greater than:  False\n",
      "Greater than or equal to:  False\n",
      "Equal to:  False\n",
      "Not equal to:  True\n"
     ]
    }
   ],
   "source": [
    "print(\"Less than: \", a < b)\n",
    "print(\"Less than or equal to:\", a <= b)\n",
    "print(\"Greater than: \", a > b)\n",
    "print(\"Greater than or equal to: \", a >= b)\n",
    "print(\"Equal to: \" , a == b)\n",
    "print(\"Not equal to: \", a != b)\n",
    "\n"
   ]
  }
 ],
 "metadata": {
  "kernelspec": {
   "display_name": ".venv",
   "language": "python",
   "name": "python3"
  },
  "language_info": {
   "codemirror_mode": {
    "name": "ipython",
    "version": 3
   },
   "file_extension": ".py",
   "mimetype": "text/x-python",
   "name": "python",
   "nbconvert_exporter": "python",
   "pygments_lexer": "ipython3",
   "version": "3.13.2"
  }
 },
 "nbformat": 4,
 "nbformat_minor": 5
}
