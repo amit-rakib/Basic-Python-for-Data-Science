{
 "cells": [
  {
   "cell_type": "code",
   "execution_count": 6,
   "id": "23154104",
   "metadata": {},
   "outputs": [
    {
     "name": "stdout",
     "output_type": "stream",
     "text": [
      "{<class 'str'>: 5, <class 'int'>: 2, <class 'float'>: 1, <class 'bool'>: 1, <class 'dict'>: 1}\n"
     ]
    },
    {
     "data": {
      "text/plain": [
       "{str: 5, int: 2, float: 1, bool: 1, dict: 1}"
      ]
     },
     "execution_count": 6,
     "metadata": {},
     "output_type": "execute_result"
    }
   ],
   "source": [
    "ar = ['Ai', 1, 'is', 2, 'the', 2.4, 'new', True, 'oil', {'dog': 'bark'}]\n",
    "\n",
    "count = {} # Initialize an empty dictionary to count occurrences\n",
    "\n",
    "for i in ar:\n",
    "    element_type = type(i)\n",
    "    if element_type in count.keys():\n",
    "        count[element_type] +=1\n",
    "    else:\n",
    "        count[element_type] = 1 \n",
    "print(count)  # Print the count of each type in the array\n",
    "count"
   ]
  },
  {
   "cell_type": "code",
   "execution_count": 1,
   "id": "d65aa850",
   "metadata": {},
   "outputs": [
    {
     "data": {
      "text/plain": [
       "6.4"
      ]
     },
     "execution_count": 1,
     "metadata": {},
     "output_type": "execute_result"
    }
   ],
   "source": [
    "ar = ['Ai', 1, 'is', 2, 'the', 2.4, 'new', True, 'oil', {'dog': 'bark'}]\n",
    "\n",
    "sum = 0\n",
    "for i in ar:\n",
    "    try:\n",
    "        sum += i\n",
    "    except TypeError:\n",
    "        pass  # Ignore elements that cannot be summed\n",
    "\n",
    "\n",
    "sum"
   ]
  }
 ],
 "metadata": {
  "kernelspec": {
   "display_name": ".venv",
   "language": "python",
   "name": "python3"
  },
  "language_info": {
   "codemirror_mode": {
    "name": "ipython",
    "version": 3
   },
   "file_extension": ".py",
   "mimetype": "text/x-python",
   "name": "python",
   "nbconvert_exporter": "python",
   "pygments_lexer": "ipython3",
   "version": "3.13.2"
  }
 },
 "nbformat": 4,
 "nbformat_minor": 5
}
